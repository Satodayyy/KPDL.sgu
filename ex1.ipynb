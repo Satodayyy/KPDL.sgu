{
 "cells": [
  {
   "cell_type": "markdown",
   "id": "6899d960",
   "metadata": {},
   "source": [
    "# Bài làm"
   ]
  },
  {
   "cell_type": "markdown",
   "id": "94ed16aa",
   "metadata": {},
   "source": [
    "## 1. Nhập/xuất, biểu thức toán"
   ]
  },
  {
   "cell_type": "markdown",
   "id": "11bc6dfe",
   "metadata": {},
   "source": [
    "### Bài 1: Tính giá trị hàm số \n",
    "$$\n",
    "    f\\left(x\\right) = x + \\frac{x^5}{5!} + \\frac{\\sqrt{|x|}}{x^{3/2}}\n",
    "$$"
   ]
  },
  {
   "cell_type": "code",
   "execution_count": 8,
   "id": "863de9e4",
   "metadata": {},
   "outputs": [
    {
     "name": "stdout",
     "output_type": "stream",
     "text": [
      "Gia tri cua ham so f(2.3) =  3.27.\n"
     ]
    }
   ],
   "source": [
    "import math\n",
    "x =  float(input('Moi ban nhap vao gia tri cua bien so x: '))\n",
    "\n",
    "f_x = lambda x: x + (x**5) / math.factorial(5) + math.sqrt(abs(x)) / (x**(3/2))\n",
    "\n",
    "print(f'Gia tri cua ham so f({x}) = {f_x(x) : .2f}.') "
   ]
  },
  {
   "cell_type": "markdown",
   "id": "feb46de2",
   "metadata": {},
   "source": [
    "### Bài 2: Đổi sang giờ phút giây"
   ]
  },
  {
   "cell_type": "code",
   "execution_count": 9,
   "id": "344fc9c5",
   "metadata": {},
   "outputs": [
    {
     "name": "stdout",
     "output_type": "stream",
     "text": [
      "1 giờ 20 phút 0 giây\n"
     ]
    }
   ],
   "source": [
    "t = int(input('Moi ban nhap tong so giay: '))\n",
    "\n",
    "gio = t // 3600\n",
    "du = t % 3600\n",
    "phut = du // 60\n",
    "giay = du % 60\n",
    "\n",
    "print(f\"{gio} giờ {phut} phút {giay} giây\")"
   ]
  },
  {
   "cell_type": "markdown",
   "id": "74ce899c",
   "metadata": {},
   "source": [
    "## 2. Cấu trúc lựa chọn"
   ]
  },
  {
   "cell_type": "markdown",
   "id": "38ad7079",
   "metadata": {},
   "source": [
    "### Bài 3: Giải phương trình bậc nhất"
   ]
  },
  {
   "cell_type": "code",
   "execution_count": null,
   "id": "639fcecd",
   "metadata": {},
   "outputs": [
    {
     "name": "stdout",
     "output_type": "stream",
     "text": [
      "Phuong trinh 2x + 3 = 0 co 1 nghiem x = -1.50.\n"
     ]
    }
   ],
   "source": [
    "# Nhập dữ liệu\n",
    "a  = int(input('Moi ban nhap he so a: '))\n",
    "b  = int(input('Moi ban nhap he so b: '))\n",
    "\n",
    "if a == 0:\n",
    "    if b == 0:\n",
    "        flag = -1   # vô số nghiệm\n",
    "        x = None\n",
    "    else:\n",
    "        flag = 0    # vô nghiệm\n",
    "        x = None\n",
    "else:\n",
    "    flag = 1        # có 1 nghiệm\n",
    "    x = -b / a\n",
    "    \n",
    "# Xuất dữ liệu\n",
    "s = f'Phuong trinh {a}x + {b} = 0'\n",
    "if flag == -1:\n",
    "    print(f'{s} vo so nghiem.')\n",
    "elif flag == 0:\n",
    "    print(f'{s} vo nghiem.')\n",
    "else:\n",
    "    print(f'{s} co 1 nghiem x = {x: .2f}.')"
   ]
  },
  {
   "cell_type": "markdown",
   "id": "2afff677",
   "metadata": {},
   "source": [
    "### Bài 4: Chuyển ký số sang số"
   ]
  },
  {
   "cell_type": "code",
   "execution_count": 15,
   "id": "ef66f0f2",
   "metadata": {},
   "outputs": [
    {
     "name": "stdout",
     "output_type": "stream",
     "text": [
      "Chuoi ban nhap hop le! \"twO\" bieu dien cho so \"2\" va tuong ung voi tieng viet la \"hai\"\n"
     ]
    }
   ],
   "source": [
    "s = input(\"Moi ban nhap chuoi ky so s: \")\n",
    "\n",
    "en  = [\"zero\", \"one\", \"two\", \"three\", \"four\", \"five\", \"six\", \"seven\", \"eight\", \"nine\"]\n",
    "vi  = [\"khong\", \"mot\", \"hai\", \"ba\", \"bon\", \"nam\", \"sau\", \"bay\", \"tam\", \"chin\"]\n",
    "num = [0, 1, 2, 3, 4, 5, 6, 7, 8, 9]\n",
    "\n",
    "key = s.lower()\n",
    "\n",
    "if key in en:\n",
    "    i = en.index(key)\n",
    "    print(f'Chuoi ban nhap hop le! \"{s}\" bieu dien cho so \"{num[i]}\" va tuong ung voi tieng viet la \"{vi[i]}\"')\n",
    "else:\n",
    "    print(f'Chuoi vua nhap khong hop le!')\n"
   ]
  },
  {
   "cell_type": "markdown",
   "id": "ae19f696",
   "metadata": {},
   "source": [
    "## 3. Cấu trúc lặp"
   ]
  },
  {
   "cell_type": "markdown",
   "id": "d606700b",
   "metadata": {},
   "source": [
    "### Bài 5: Bài tính tổng số chẵn"
   ]
  },
  {
   "cell_type": "code",
   "execution_count": 1,
   "id": "abe932fe",
   "metadata": {},
   "outputs": [
    {
     "name": "stdout",
     "output_type": "stream",
     "text": [
      "Tong cac so chan tu 1 den 100 la 2550.\n"
     ]
    }
   ],
   "source": [
    "# Nhập dữ liệu\n",
    "n   = int(input(\"Moi ban nhap so nguyen n: \"))\n",
    "\n",
    "# Xuất dữ liệu\n",
    "s   = 0\n",
    "for i in range(2, n+1, 2):\n",
    "    s += i\n",
    "    \n",
    "print(f'Tong cac so chan tu 1 den {n} la {s}.')"
   ]
  },
  {
   "cell_type": "markdown",
   "id": "9ef63c8b",
   "metadata": {},
   "source": [
    "### Bài 6: Kiểm tra số nguyên tố"
   ]
  },
  {
   "cell_type": "code",
   "execution_count": 7,
   "id": "927aea1d",
   "metadata": {},
   "outputs": [
    {
     "name": "stdout",
     "output_type": "stream",
     "text": [
      "3 la so nguyen to.\n"
     ]
    }
   ],
   "source": [
    "# Nhập dữ liệu\n",
    "n   = int(input(\"Moi ban nhap so nguyen n: \"))\n",
    "\n",
    "# Xử lý\n",
    "\n",
    "def isPrime(n):\n",
    "    if (n<2): \n",
    "        return False\n",
    "    for i in range(2, n): \n",
    "        if n%i==0: \n",
    "            return False\n",
    "    return True\n",
    "\n",
    "\n",
    "# Xuất dữ liệu\n",
    "if isPrime(n):\n",
    "    print(f'{n} la so nguyen to.')\n",
    "else:\n",
    "    print(f'{n} khong la so nguyen to.')"
   ]
  },
  {
   "cell_type": "markdown",
   "id": "0d222091",
   "metadata": {},
   "source": [
    "## 4. Xử lí ngoại lệ và hàm số"
   ]
  },
  {
   "cell_type": "markdown",
   "id": "afba7aed",
   "metadata": {},
   "source": [
    "### Bài 7: Giải phương trình bậc 2"
   ]
  },
  {
   "cell_type": "code",
   "execution_count": 8,
   "id": "89a07fa8",
   "metadata": {},
   "outputs": [
    {
     "name": "stdout",
     "output_type": "stream",
     "text": [
      "a = 1 b = 2 c = 3\n"
     ]
    }
   ],
   "source": [
    "def NhapDuLieu():\n",
    "    a, b, c = map(int, input(\"Moi ban nhap he so a, b, c: \").split())\n",
    "    return a, b, c\n",
    "\n",
    "\n",
    "a, b, c = NhapDuLieu()\n",
    "print(\"a =\", a, \"b =\", b, \"c =\", c)"
   ]
  },
  {
   "cell_type": "code",
   "execution_count": 9,
   "id": "5501a242",
   "metadata": {},
   "outputs": [
    {
     "name": "stdout",
     "output_type": "stream",
     "text": [
      "Phuong trinh vo nghiem thuc\n"
     ]
    }
   ],
   "source": [
    "import math\n",
    "\n",
    "def GiaiPTB2(a, b, c):\n",
    "    if a == 0:  \n",
    "        if b == 0:\n",
    "            if c == 0:\n",
    "                print(\"Phuong trinh co vo so nghiem\")\n",
    "            else:\n",
    "                print(\"Phuong trinh vo nghiem\")\n",
    "        else:\n",
    "            x = -c / b\n",
    "            print(f\"Phuong trinh bac nhat, nghiem x = {x:.2f}\")\n",
    "    else:\n",
    "        delta = b**2 - 4*a*c\n",
    "        if delta < 0:\n",
    "            print(\"Phuong trinh vo nghiem thuc\")\n",
    "        elif delta == 0:\n",
    "            x = -b / (2*a)\n",
    "            print(f\"Phuong trinh co nghiem kep: x = {x:.2f}\")\n",
    "        else:\n",
    "            x1 = (-b + math.sqrt(delta)) / (2*a)\n",
    "            x2 = (-b - math.sqrt(delta)) / (2*a)\n",
    "            print(f\"Phuong trinh co 2 nghiem phan biet: x1 = {x1:.2f}, x2 = {x2:.2f}\")\n",
    "\n",
    "a, b, c = NhapDuLieu()\n",
    "GiaiPTB2(a, b, c)\n"
   ]
  },
  {
   "cell_type": "markdown",
   "id": "6d22cb9d",
   "metadata": {},
   "source": [
    "# Kết thúc"
   ]
  }
 ],
 "metadata": {
  "kernelspec": {
   "display_name": "Python 3",
   "language": "python",
   "name": "python3"
  },
  "language_info": {
   "codemirror_mode": {
    "name": "ipython",
    "version": 3
   },
   "file_extension": ".py",
   "mimetype": "text/x-python",
   "name": "python",
   "nbconvert_exporter": "python",
   "pygments_lexer": "ipython3",
   "version": "3.13.1"
  }
 },
 "nbformat": 4,
 "nbformat_minor": 5
}
